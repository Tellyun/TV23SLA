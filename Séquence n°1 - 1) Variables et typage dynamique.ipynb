{
 "cells": [
  {
   "cell_type": "markdown",
   "id": "0dfb9626",
   "metadata": {},
   "source": [
    "# Séquence n°1 - Premiers pas sur Python\n",
    "\n",
    "## 1) Variables et typage dynamique\n",
    "\n",
    "Ce document vous permettra de vous exercer en douceur au langage de programmation Python. Ce document est un notebook réalisé à l'aide de Jupyter Notebook.\\\n",
    "Jupyter Notebook est un outil qui permet de créer un document hybride composé tantôt des cellules de texte tantôt des cellules de code.\\\n",
    "Lorsque les cellules sont précédées de crochets comme ça [ ]:, cela signifie qu'il s'agit d'une cellue destiné à écrire du code. Afin d'exécuter (\"Run\", en anglais) les cellules, vous pouvez appuyer sur l'icone de lancement en forme de triangle ou bien utiliser le raccourci Ctrl + Entrée.\n",
    "\n",
    "Aussi, vous trouverez très souvent des commentaires au sein de cellules de codes. Il s'agit de commentaires que j'insère à l'aide de la touche \"#\". Cela me permet de commenter mes lignes de commandes sans que cela soit pris en compte par la machine dans son exécution.\n",
    "\n",
    "Commençons !"
   ]
  },
  {
   "cell_type": "code",
   "execution_count": null,
   "id": "724e71c7",
   "metadata": {},
   "outputs": [],
   "source": [
    "# Commencer une ligne de code par un # vous permet d'insérer un commentaire qui ne sera pas pris en compte dans l'exécution de votre commande.\n",
    "# C'est un moyen idéal de commenter chaque action et de ne pas se perdre ;)\n",
    "\n",
    "# Que vous utilisiez IDLE, Jupyter ou VSCode, Python vous permet d'exécuter des calculs:\n",
    "# En exécutant la cellule (Ctrl + Entrée), vous obtiendrez le résultat juste en-dessous !\n",
    "\n",
    "2*2"
   ]
  },
  {
   "cell_type": "markdown",
   "id": "438a2ac6",
   "metadata": {},
   "source": [
    "Nous avons exécuté notre première ligne ! Maintenant, on souhaiterait sauvegarder ce résultat afin de ne pas le perdre. Pour cela, on crée une variable qui sauvegardera notre objet.\n",
    "\n",
    "### Les variables\n",
    "\n",
    "En Python et dans d'autres langages de programmation, nous pouvons créer des variables afin de sauvegarder et de manipuler des données.\n",
    "\n",
    "Les variables reposent sur un concept simple :\n",
    "\n",
    "1) On lui attribue un nom. Cela peut sembler simple mais c'est très important.\n",
    "Les noms des variables doivent respecter quelques règles : ils ne peuvent pas commencer par un chiffre mais peuvent en contenir.\\\n",
    "Ils peuvent être composés de caractères y compris des caractères spéciaux comme les \"é\" ou \"à\". TOUTEFOIS, par convention je vous déconseille de les utiliser. Par exemple, j'écris la variable \"age\" comme ceci plutôt que \"âge\".\n",
    "Les espaces sont remplacés par des underscores \"_\". La variable \"nom entier\" s'écrit en réalité \"nom_entier\". L'espace n'est pas un caractère !\n",
    "\n",
    "2) On lui attribue une valeur grâce au signe \"=\"."
   ]
  },
  {
   "cell_type": "code",
   "execution_count": 2,
   "id": "22ab282e",
   "metadata": {},
   "outputs": [],
   "source": [
    "# Codons notre première variable\n",
    "a = 2"
   ]
  },
  {
   "cell_type": "code",
   "execution_count": 2,
   "id": "5fd34d7d-0825-4bf6-98a9-b76cd99ec0bc",
   "metadata": {},
   "outputs": [],
   "source": [
    "# Nous réalisons l'opération 2*2 et désirons sauvegarder le résultat.\n",
    "# Pour ce faire, il est primordial d'utiliser une variable :\n",
    "\n",
    "a = 2*2"
   ]
  },
  {
   "cell_type": "markdown",
   "id": "022e0371-6697-4b24-b16f-73542e8292f0",
   "metadata": {},
   "source": [
    "Vous avez dû le remarquer mais rien ne s'est affiché lorsque nous avons exécuté les deux blocs précédents...\\\n",
    "C'est parce qu'en Python, nous devons spécifier lorsque nous voulons un retour visuel de ce que nous venons de coder. Eh oui, imaginez un script de 50 000 commandes dont chacune renverrait un résultat, ce serait beaucoup trop lourd !\n",
    "Toutefois, ce n'est pas parce que nous n'avons pas de retour que Python ne l'a pas pris en compte.\\\n",
    "\n",
    "En fait, la cellule précédente a bien été validée et la variable (a) créée. MAIS, nous n'avons pas demandé à Python de nous imprimer le résultat.\n",
    "\n",
    "Utilisons pour cela notre première commande : print().\n",
    "\n",
    "Comme vous le verrez par la suite, la majorité des instructions/commandes contiennent des parenthèses dans lesquelles nous implémentons nos données/variables.\\\n",
    "\n",
    "IMPORTANT : Une parenthèse ouverte doit toujours être fermée par la suite !"
   ]
  },
  {
   "cell_type": "code",
   "execution_count": 3,
   "id": "b8f32c03",
   "metadata": {},
   "outputs": [
    {
     "name": "stdout",
     "output_type": "stream",
     "text": [
      "2\n",
      "4\n"
     ]
    }
   ],
   "source": [
    "#Print permet d'imprimer une donnée, une variable, un résultat, etc.\n",
    "\n",
    "print(2)\n",
    "\n",
    "# D'ailleurs, vous noterez que ce document enregistre les résultats de bloc en bloc.\n",
    "# Si vous n'avez pas exécuté le bloc précédent, vous devriez avoir un message d'erreur car en l'absence d'exécution, la variable (a) n'aura jamais été créée !\n",
    "# Dans ce cas, revenez dans le bloc précédent et exécutez-le !\n",
    "\n",
    "print(a)"
   ]
  },
  {
   "cell_type": "markdown",
   "id": "db2db4d9",
   "metadata": {},
   "source": [
    "### Opérations mathématiques simples et texte\n",
    "\n",
    "Comme nous l'avons vu avant, Python permet de réaliser des opérations mathématiques"
   ]
  },
  {
   "cell_type": "code",
   "execution_count": null,
   "id": "6a18a9e2",
   "metadata": {},
   "outputs": [],
   "source": [
    "# Addition\n",
    "print(2+2)\n",
    "\n",
    "# Soustraction\n",
    "print(2-2)\n",
    "\n",
    "# Multiplication (signe *)\n",
    "print(2*2)\n",
    "\n",
    "# Division (signe /)\n",
    "print(2/2)"
   ]
  },
  {
   "cell_type": "code",
   "execution_count": 4,
   "id": "846e9b65",
   "metadata": {},
   "outputs": [
    {
     "name": "stdout",
     "output_type": "stream",
     "text": [
      "ADiReO\n"
     ]
    }
   ],
   "source": [
    "# Nous pouvons aussi travailler avec du texte brut dans Python. Pour le spécifier, on utilise les guillemets \" \" ou les simples ' '.\n",
    "# Il est important de ne pas mélanger les guillemets entre eux : \"ADIREO\" et 'ADIREO' seront reconnus mais pas \"ADIREO'.\n",
    "\n",
    "a = \"ADiReO\"\n",
    "print(a)"
   ]
  },
  {
   "cell_type": "markdown",
   "id": "7e4a07a4",
   "metadata": {},
   "source": [
    "### Type et typage dynamique dans Python\n",
    "\n",
    "Chaque objet appartient à un type défini !\\\n",
    "Il faut savoir que le type d'un objet est crucial car c'est cela qui définira les méthodes que l'on peut y appliquer. Ainsi, vous ne pourrez pas multiplier des mots entre eux tout comme vous ne pourrez pas mettre en majuscule des chiffres ;).\n",
    "\n",
    "Il existe quelques grands types natifs dans Python :\\\n",
    "1) STR : String ou Chaîne. Il s'agit de texte, une chaîne de caractères qui est entourée par des guillemets \" \" ou ' '.\n",
    "Un chiffre peut être une chaîne de caractère. Par exemple, si j'écris \"3\", le type sera STR et non pas INT, mais si j'écris 3 sans guillemets, ce sera bien un nombre entier !\n",
    "2) INT : Integer ou Entier. Nombres entiers positifs ou négatifs.\n",
    "3) FLOAT : Floatting ou Flottant. Nombres décimaux.\n",
    "\n",
    "Nous verrons les autres prochainement !\n",
    "\n",
    "Pour vérifier le type de votre variable, vous pouvez utiliser la commande type()."
   ]
  },
  {
   "cell_type": "code",
   "execution_count": 5,
   "id": "163ad7e9",
   "metadata": {},
   "outputs": [
    {
     "data": {
      "text/plain": [
       "str"
      ]
     },
     "execution_count": 5,
     "metadata": {},
     "output_type": "execute_result"
    }
   ],
   "source": [
    "# type STR pour 'String' ou 'Chaîne de caractères\"\n",
    "a = \"Bonjour à toutes et à tous !\"\n",
    "type(a)"
   ]
  },
  {
   "cell_type": "code",
   "execution_count": null,
   "id": "57042dd1",
   "metadata": {},
   "outputs": [],
   "source": [
    "# type INT pour 'Integer' ou 'Nombre entier'\n",
    "a = 2\n",
    "type(a)"
   ]
  },
  {
   "cell_type": "code",
   "execution_count": null,
   "id": "9f024ee6",
   "metadata": {},
   "outputs": [],
   "source": [
    "# FLOAT pour 'Floating Point Number' ou 'Nombre flottant'\n",
    "a = 2.5\n",
    "type(a)\n",
    "\n",
    "# Notez qu'il faut utiliser le point \".\" comme séparateur et non la virgule, cela ne fonctionnera pas !\n",
    "# Si vous utilisez une virgule, Python considère qu'il s'agit d'un tuple et non d'un nombre décimal !"
   ]
  },
  {
   "cell_type": "markdown",
   "id": "312425e4",
   "metadata": {},
   "source": [
    "Nous avons de nombreux autres types natifs dans Python comme 'BOOL' pour \"booléen\", les tuples ou encore les listes. Nous verrons cela au fur et à mesure des séances."
   ]
  },
  {
   "cell_type": "markdown",
   "id": "f8c19f68",
   "metadata": {},
   "source": [
    "Python est un langage de programmation qui permet notamment de modifier le type de l'objet\n",
    "C'est ce qu'on appelle le typage dynamique !"
   ]
  },
  {
   "cell_type": "code",
   "execution_count": null,
   "id": "da24af8f",
   "metadata": {},
   "outputs": [],
   "source": [
    "# Ici, la variable a est de type INT.\n",
    "a = 3\n",
    "print(type(a))\n",
    "\n",
    "# Grâce à la commande STR, je souhaite modifier le type de la variable a en une chaîne de caractères, STR.\n",
    "a = str(a)\n",
    "print(type(a))"
   ]
  },
  {
   "cell_type": "code",
   "execution_count": null,
   "id": "dfca51bd",
   "metadata": {},
   "outputs": [],
   "source": [
    "# Enfin, sachez que vous pouvez très bien faire des calculs entre des nombres INT et des nombres FLOAT\n",
    "\n",
    "2*2.5"
   ]
  },
  {
   "cell_type": "markdown",
   "id": "7147350b",
   "metadata": {},
   "source": [
    "### STR et concaténation\n",
    "\n",
    "L'un des avantages de Python est aussi de pouvoir imprimer directement votre variable à l'intérieur même d'une chaîne de caractères afin d'automatiser certains processus."
   ]
  },
  {
   "cell_type": "code",
   "execution_count": null,
   "id": "5225361b",
   "metadata": {},
   "outputs": [],
   "source": [
    "a = \"Hélène\"\n",
    "b = \"Martin\"\n",
    "print(\"Je m'appelle\", a, b)"
   ]
  },
  {
   "cell_type": "code",
   "execution_count": null,
   "id": "69d85e68",
   "metadata": {},
   "outputs": [],
   "source": [
    "# On peut également concaténer des variables en un seule si nous avons besoin de les grouper.\n",
    "\n",
    "a = \"Hélène\"\n",
    "b = \"Martin\"\n",
    "\n",
    "nom_entier = (a + b)\n",
    "print(nom_entier)\n",
    "\n",
    "# Pour ajouter l'espace entre le prénom et le nom, on peut ajouter un espace nous-mêmes.\n",
    "\n",
    "nom_entier = (a + \" \" + b)\n",
    "print(nom_entier)"
   ]
  },
  {
   "cell_type": "markdown",
   "id": "aac4a315",
   "metadata": {},
   "source": [
    "### Input\n",
    "\n",
    "Enfin, pour clôturer cette leçon, nous allons voir la fonction 'input' qui vous permet d'interroger un utilisateur afin de collecter des données. Dès que vous exécuterez cette commande, une zone de texte s'ouvrira afin de vous permettre de répondre."
   ]
  },
  {
   "cell_type": "code",
   "execution_count": null,
   "id": "489641a8",
   "metadata": {},
   "outputs": [],
   "source": [
    "input(\"Quel est votre prénom ?\")"
   ]
  },
  {
   "cell_type": "markdown",
   "id": "9ea41336",
   "metadata": {},
   "source": [
    "Notez que cette commande collectera toujours les données sous le type STR, y compris des données numériques ! C'est pourquoi le typage dynamique est si important en Python. Si vous avez envie d'opérer des statistiques sur les âges de vos utilisateur.rice.s, vous aurez besoin au préalable de modifier le type STR en INT ou FLOAT."
   ]
  },
  {
   "cell_type": "code",
   "execution_count": null,
   "id": "b3d6684e",
   "metadata": {},
   "outputs": [],
   "source": [
    "a = input(\"Quel est votre âge ?\")\n",
    "\n",
    "print(type(a))"
   ]
  },
  {
   "cell_type": "markdown",
   "id": "28b12517",
   "metadata": {},
   "source": [
    "Voici la fin de la première séance ! Vous aurez vu ici une base pratique afin de mettre en place les éléments présentés dans le cours. Vous trouverez sur l'ENT, une série d'exercices pour cette leçon qui vous permettra d'affiner vos premières connaissances !"
   ]
  }
 ],
 "metadata": {
  "jupytext": {
   "formats": "py:percent,ipynb"
  },
  "kernelspec": {
   "display_name": "Python 3 (ipykernel)",
   "language": "python",
   "name": "python3"
  },
  "language_info": {
   "codemirror_mode": {
    "name": "ipython",
    "version": 3
   },
   "file_extension": ".py",
   "mimetype": "text/x-python",
   "name": "python",
   "nbconvert_exporter": "python",
   "pygments_lexer": "ipython3",
   "version": "3.12.2"
  }
 },
 "nbformat": 4,
 "nbformat_minor": 5
}
