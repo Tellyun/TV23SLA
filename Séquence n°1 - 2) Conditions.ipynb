{
 "cells": [
  {
   "cell_type": "markdown",
   "id": "f1ef68e5-f318-4f7b-808f-98f3b772ff9d",
   "metadata": {},
   "source": [
    "# Séquence n°1 - Premiers pas sur Python\n",
    "## 2) Conditions\n",
    "\n",
    "Ce document sera l'occasion de vous accompagner dans l'apprentissage des conditions dans Python.\n",
    "\n",
    "### Que sont les conditions ?\n",
    "\n",
    "Les conditions agissent comme des structures de contrôle et permettent de mettre à l'épreuve vos variables afin de vérifier si elles remplissent des critères. Globalement, cela revient à vérifier si votre expression est 'TRUE' ou 'FALSE' et permettra à votre script de réagir de différentes manières en fonction du résultat.\n",
    "\n",
    "### Les différentes instructions\n",
    "\n",
    "Il existe trois commandes différentes qui vous permettront de mettre en place des conditions. Il s'agit de 'if', 'else' et 'elif' que nous allons voir ci-dessous."
   ]
  },
  {
   "cell_type": "markdown",
   "id": "b739a05b-5eef-43f9-9924-005ee05c3c7d",
   "metadata": {},
   "source": [
    "#### L'instruction 'if'\n",
    "\n",
    "If est la première commande que nous verrons. Il s'agit de la plus simple puisqu'elle ne vérifiera que si la condition est vraie ('TRUE'). Si tel est le cas, elle s'exécutera."
   ]
  },
  {
   "cell_type": "code",
   "execution_count": 11,
   "id": "56965db8-b29d-4321-a53f-e6e65320d0a8",
   "metadata": {},
   "outputs": [
    {
     "name": "stdout",
     "output_type": "stream",
     "text": [
      "Il s'agit d'une voiture française\n"
     ]
    }
   ],
   "source": [
    "# Créons une première variable marque_voiture\n",
    "\n",
    "marque_voiture = \"Peugeot\"\n",
    "\n",
    "# Nous voulons créer une commande qui vérifiera si la voiture est française.\n",
    "# On met en place la condition à l'aide de 'if'\n",
    "\n",
    "if marque_voiture == \"Peugeot\":\n",
    "    print(\"Il s'agit d'une voiture française\")"
   ]
  },
  {
   "cell_type": "code",
   "execution_count": 15,
   "id": "a7b70168-791a-4fa3-80b6-70b224221400",
   "metadata": {},
   "outputs": [],
   "source": [
    "# Si on modifie la condition \"Peugeot\" par \"Renault\", nous n'aurons aucun résultat\n",
    "\n",
    "marque_voiture = \"Peugeot\"\n",
    "if marque_voiture == \"Renault\":\n",
    "    print(\"Il s'agit d'une voiture française\")"
   ]
  },
  {
   "cell_type": "markdown",
   "id": "be9bbfce-30b2-4be6-b163-fc3349f78de7",
   "metadata": {},
   "source": [
    "### Quelques précisions\n",
    "#### Comme vous avez peut-être remarqué, 'if' suit une syntaxe particulière :\n",
    "\n",
    "1) D'abord, il est toujours crucial d'utiliser des opérateurs de comparaison (comme nous allons le voir ci-dessous).\n",
    "2) Il faut toujours terminer sa condition par \":\" afin de présenter à Python ce que nous voulons voir exécuter si la condition est réussie.\n",
    "3) Enfin, vous voyez que 'print' est légèrement avancé. C'est ce qu'on appelle l'indentation en python.\n",
    "\n",
    "#### L'indentation\n",
    "\n",
    "L'indentation permet de délimiter des blocs de code afin qu'ils soient correctement interprétés par la machine. Une mauvaise indentation sera mal lue et donc mal exécutée.\n",
    "\n",
    "Elle correspond à 4 espaces ou à une tabulation (touche \"Tab\"). Dans tous les cas, gardez toujours le même interval à partir du moment où vous l'avez défini une première fois !!\n",
    "\n",
    "Vous allez créer une indentation à chaque fois que vous commencerez votre code avec une instruction comme 'if', 'while', 'for', 'def'...\n",
    "Par défaut, IDLE et les autres prompts Python créeront NORMALEMENT l'indentation. Ce n'est pas sûr à 100% selon ce que vous utiliserez et votre manière d'écrire.\n",
    "\n",
    "#### Quelques erreurs courantes"
   ]
  },
  {
   "cell_type": "code",
   "execution_count": 44,
   "id": "af87206b-b467-4ac7-88ce-8a5963783264",
   "metadata": {},
   "outputs": [
    {
     "ename": "IndentationError",
     "evalue": "expected an indented block after 'if' statement on line 3 (903456554.py, line 4)",
     "output_type": "error",
     "traceback": [
      "\u001b[1;36m  Cell \u001b[1;32mIn[44], line 4\u001b[1;36m\u001b[0m\n\u001b[1;33m    print(\"Vous faites 1m75\")\u001b[0m\n\u001b[1;37m    ^\u001b[0m\n\u001b[1;31mIndentationError\u001b[0m\u001b[1;31m:\u001b[0m expected an indented block after 'if' statement on line 3\n"
     ]
    }
   ],
   "source": [
    "#Oubli d'indentation\n",
    "taille = 175\n",
    "\n",
    "if taille == 175:\n",
    "print(\"Vous faites 1m75\")"
   ]
  },
  {
   "cell_type": "code",
   "execution_count": 2,
   "id": "932d520b-9375-4473-979d-4e145de3da69",
   "metadata": {},
   "outputs": [
    {
     "ename": "IndentationError",
     "evalue": "unindent does not match any outer indentation level (<string>, line 6)",
     "output_type": "error",
     "traceback": [
      "\u001b[1;36m  File \u001b[1;32m<string>:6\u001b[1;36m\u001b[0m\n\u001b[1;33m    print(\"Erreur\")\u001b[0m\n\u001b[1;37m                   ^\u001b[0m\n\u001b[1;31mIndentationError\u001b[0m\u001b[1;31m:\u001b[0m unindent does not match any outer indentation level\n"
     ]
    }
   ],
   "source": [
    "#Niveaux d'indentation inégaux\n",
    "taille = 175\n",
    "if taille == 174:\n",
    "      print(\"Vous faites 1m75\")\n",
    "                else:\n",
    "    print(\"Erreur\")"
   ]
  },
  {
   "cell_type": "markdown",
   "id": "d84934f4-9d68-45b9-acbc-620996b087b3",
   "metadata": {},
   "source": [
    "#### Opérateurs de comparaison\n",
    "\n",
    "Afin de soumettre nos conditions, nous utilisons des opérateurs de comparaison qui peuvent être combinés à des opérateurs logiques (que nous verrons ci-dessous)\n",
    "\n",
    "'==' vérifie l'égalité entre les chaînes ou les nombres\\\n",
    "'!=' vérifie la différence (ou l'inégalité) entre les chaînes ou les nombres\\\n",
    "'>', '<' compare la stricte supériorité/infériorité des nombres\\\n",
    "'>=' et '<=' compare l'égalité ou la supériorité/infériorité des nombres\n",
    "\n",
    "##### Quelques exemples ci-dessous"
   ]
  },
  {
   "cell_type": "code",
   "execution_count": 17,
   "id": "2bc13be3-5f56-4eab-bcb4-bead23b06bba",
   "metadata": {},
   "outputs": [
    {
     "name": "stdout",
     "output_type": "stream",
     "text": [
      "J'ai plus de 20 ans\n"
     ]
    }
   ],
   "source": [
    "#Supériorité\n",
    "age = 21\n",
    "\n",
    "if age > 20:\n",
    "    print(\"J'ai plus de 20 ans\")"
   ]
  },
  {
   "cell_type": "code",
   "execution_count": 18,
   "id": "d98b2d3d-3bed-4e99-99bd-c9e157851656",
   "metadata": {},
   "outputs": [
    {
     "name": "stdout",
     "output_type": "stream",
     "text": [
      "J'ai au moins 20 ans\n"
     ]
    }
   ],
   "source": [
    "#Supérieur ou égal\n",
    "age = 20\n",
    "if age >= 20:\n",
    "    print(\"J'ai au moins 20 ans\")"
   ]
  },
  {
   "cell_type": "markdown",
   "id": "772fe4a1-241d-4281-ba4a-04470c1fabd9",
   "metadata": {},
   "source": [
    "#### Opérateurs logiques\n",
    "\n",
    "Comme vous l'avez peut-être déjà vu dans d'autres langages, on peut cumuler les critères de comparaison à des opérateurs logiques:\n",
    "\n",
    "'and' vérifie si deux conditions sont vraies\\\n",
    "'or' vérifier si au moins est une des conditions est vraie\\\n",
    "'not' inverse la vérité d'une condition\n",
    "\n",
    "##### Quelques exemples"
   ]
  },
  {
   "cell_type": "code",
   "execution_count": 34,
   "id": "59129e53-4736-4604-9ddb-9ea927da092e",
   "metadata": {},
   "outputs": [
    {
     "name": "stdout",
     "output_type": "stream",
     "text": [
      "C'est une voiture française\n"
     ]
    }
   ],
   "source": [
    "# Reprenons notre variable 'marque_voiture' et utilison l'opérateur 'or'\n",
    "\n",
    "marque_voiture = \"Peugeot\"\n",
    "\n",
    "if marque_voiture == \"Renault\" or marque_voiture == \"Peugeot\":\n",
    "    print(\"C'est une voiture française\")"
   ]
  },
  {
   "cell_type": "code",
   "execution_count": 26,
   "id": "57633521-a7f0-4e4a-9b9f-9e1ce331a50b",
   "metadata": {},
   "outputs": [
    {
     "name": "stdout",
     "output_type": "stream",
     "text": [
      "C'est une marque 100% française\n"
     ]
    }
   ],
   "source": [
    "# Opérateur 'and' avec deux conditions\n",
    "\n",
    "marque_voiture = \"Peugeot\"\n",
    "pays_fabrication = \"France\"\n",
    "if marque_voiture == \"Peugeot\" and pays_fabrication == \"France\":\n",
    "    print(\"C'est une marque 100% française\")"
   ]
  },
  {
   "cell_type": "markdown",
   "id": "fcf26db8-0f7f-4205-9349-52a35ab5b0d0",
   "metadata": {},
   "source": [
    "#### L'instruction 'else'\n",
    "\n",
    "Si 'if' est pratique, elle est tout de même insuffisante pour exécuter à bien le code si la condition n'est pas remplie.\n",
    "C'est à cela que sert la condition 'else' qui vient constamment s'ajouter après l'usage de 'if'"
   ]
  },
  {
   "cell_type": "code",
   "execution_count": 35,
   "id": "73c38f18-6493-450b-bd79-40fdfccee13c",
   "metadata": {},
   "outputs": [
    {
     "name": "stdout",
     "output_type": "stream",
     "text": [
      "Ce n'est pas une voiture française\n"
     ]
    }
   ],
   "source": [
    "marque_voiture = \"Nissan\"\n",
    "\n",
    "if marque_voiture == \"Peugeot\" or marque_voiture == \"Renault\" or marque_voiture == \"Citroen\":\n",
    "    print(\"C'est une voiture française\")\n",
    "else:\n",
    "    print(\"Ce n'est pas une voiture française\")"
   ]
  },
  {
   "cell_type": "code",
   "execution_count": 36,
   "id": "b5925b3b-4afb-4184-8de0-d9aca4bac185",
   "metadata": {},
   "outputs": [
    {
     "name": "stdout",
     "output_type": "stream",
     "text": [
      "Recalé\n"
     ]
    }
   ],
   "source": [
    "# Autre exemple\n",
    "\n",
    "note = 9\n",
    "\n",
    "if note >= 10:\n",
    "    print(\"Admis\")\n",
    "else:\n",
    "    print(\"Recalé\")"
   ]
  },
  {
   "cell_type": "markdown",
   "id": "2833e7b0-e61f-41a3-be6a-7b09835f8a4c",
   "metadata": {},
   "source": [
    "#### L'instruction \"elif\"\n",
    "\n",
    "L'instruction 'elif' qui est la contraction de 'else' et 'if' permet de vérifier plusieurs conditions à la suite et d'exécuter un résultat différent pour chaque condition.\n",
    "\n",
    "'Elif' va parcourir le script jusqu'à ce que la condition soit réalisée.\n",
    "\n",
    "##### Quelques exemples"
   ]
  },
  {
   "cell_type": "code",
   "execution_count": 39,
   "id": "c0fdce27-2065-4a04-99b1-9a7083d930bf",
   "metadata": {},
   "outputs": [
    {
     "name": "stdout",
     "output_type": "stream",
     "text": [
      "C'est une voiture moyenne\n"
     ]
    }
   ],
   "source": [
    "longueur_voiture = 4.5\n",
    "\n",
    "if longueur_voiture >= 5:\n",
    "    print(\"C'est une grande voiture\")\n",
    "elif 4 <= longueur_voiture < 5:\n",
    "    print(\"C'est une voiture moyenne\")\n",
    "elif 3.5 <= longueur_voiture < 4:\n",
    "    print(\"C'est une petite voiture\")\n",
    "else:\n",
    "    print(\"C'est une très petite voiture\")"
   ]
  },
  {
   "cell_type": "code",
   "execution_count": 40,
   "id": "004fd742-5195-46a6-9da6-b18bfdb21241",
   "metadata": {},
   "outputs": [
    {
     "name": "stdout",
     "output_type": "stream",
     "text": [
      "C'est une petite voiture\n"
     ]
    }
   ],
   "source": [
    "# On repéte ce script en modifiant la taille de la voiture\n",
    "\n",
    "longueur_voiture = 3.5\n",
    "\n",
    "if longueur_voiture >= 5:\n",
    "    print(\"C'est une grande voiture\")\n",
    "elif 4 <= longueur_voiture < 5:\n",
    "    print(\"C'est une voiture moyenne\")\n",
    "elif 3.5 <= longueur_voiture < 4:\n",
    "    print(\"C'est une petite voiture\")\n",
    "else:\n",
    "    print(\"C'est une très petite voiture\")"
   ]
  },
  {
   "cell_type": "markdown",
   "id": "92c99e96-d47f-4d33-9a04-c8c75da4b52c",
   "metadata": {},
   "source": [
    "Vous êtes prêt.e.s pour la série d'exercices sur les conditions ;) !"
   ]
  }
 ],
 "metadata": {
  "kernelspec": {
   "display_name": "Python 3 (ipykernel)",
   "language": "python",
   "name": "python3"
  },
  "language_info": {
   "codemirror_mode": {
    "name": "ipython",
    "version": 3
   },
   "file_extension": ".py",
   "mimetype": "text/x-python",
   "name": "python",
   "nbconvert_exporter": "python",
   "pygments_lexer": "ipython3",
   "version": "3.12.2"
  }
 },
 "nbformat": 4,
 "nbformat_minor": 5
}
