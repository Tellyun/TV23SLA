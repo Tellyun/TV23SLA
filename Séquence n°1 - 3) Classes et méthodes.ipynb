{
 "cells": [
  {
   "cell_type": "markdown",
   "id": "f1ef68e5-f318-4f7b-808f-98f3b772ff9d",
   "metadata": {},
   "source": [
    "# Séquence n°1 - Premiers pas sur Python\n",
    "## 3) Classes\n",
    "\n",
    "Dans Python, nous avons aussi la possibilité de créer des classes.\n",
    "\n",
    "#### Les classes\n",
    "\n",
    "Les classes sont au coeur de Python et des langages de programmation orientée objet. Elles nous permettent de créer des structures à l'intérieur desquelles on peut stocker des données sous forme d'objets/instances auxquelles nous pourrons appliquer des méthodes.\n",
    "Grossièrement, cela correspond à densifier ce que nous avons déjà fait durant les deux premières leçons.\n",
    "\n",
    "Le gros point fort des classes et de pouvoir réutiliser du code et de réduire la longueur de notre script car nous appliquons la même méthode à des objets différents.\n",
    "\n",
    "\n",
    "#### Les méthodes\n",
    "\n",
    "Les méthodes sont des actions que l'on va pouvoir exécuter sur nos données. Une méthode va dépendre du type de notre objet. L'avantage de l'utilisation des méthodes avec les classes et de pouvoir en développer une seule pour un ensemble d'instances différentes.\n",
    "\n",
    "##### Méthode __init__\n",
    "\n",
    "La méthode __init__ permet de créer les attributs de notre classe. Autrement dit, les caractéristiques des objets qui composeront notre classe. Si je crée une classe Voiture, les attributs seront sa couleur, son modèle, son année, etc.\n",
    "\n",
    "Pour ce faire, on utilisera le mot-clé \"def\" qui permet de définir une méthode et la référence \"self\" qui permet d'utiliser l'instance actuelle de notre classe.\n",
    "\n",
    "##### Méthode afficher_info()\n",
    "\n",
    "La méthode afficher_info() nous permet de retourner rapidement un ou plusieurs attributs d'un ou plusieurs objets. Cette méthode utilise également \"def\" et \"self\".\n",
    "\n",
    "Il est bon de savoir que cette méthode n'est pas native de Python. Il s'agit d'une construction pour le cours et relativement conventionnel. Par exemple, je peux très bien appeler cette méthode \"infos\" ou \"adireo\".\n",
    "\n",
    "\n",
    "Nous allons voir cela ci-dessous."
   ]
  },
  {
   "cell_type": "code",
   "execution_count": 7,
   "id": "b0afb276-8e86-474d-9943-0c6b9911d6ce",
   "metadata": {},
   "outputs": [],
   "source": [
    "# Création d'une classe \"Voiture\"\n",
    "\n",
    "class Voiture:\n",
    "\n",
    "# Ensuite on crée, à l'aide de la méthode \"__init__\", les différents attributs de notre classe (marque, modèle, couleur, etc.)\n",
    "\n",
    "    def __init__(self, marque, modèle, année):\n",
    "        self.marque = marque\n",
    "        self.modèle = modèle\n",
    "        self.année = année\n",
    "\n",
    "# Grâce à cette méthode, je peux maintenant entrer mes données que je vais stocker dans un objet\n",
    "\n",
    "voiture1 = Voiture(\"Peugeot\", \"208\", \"2011\")\n",
    "\n",
    "# On crée un objet \"voiture1\" qui possèdes les attributs que nous avions établi ci-dessus avec la méthode __init__\n"
   ]
  },
  {
   "cell_type": "code",
   "execution_count": 30,
   "id": "56965db8-b29d-4321-a53f-e6e65320d0a8",
   "metadata": {},
   "outputs": [
    {
     "name": "stdout",
     "output_type": "stream",
     "text": [
      "La voiture possède les caractéristiques suivantes : Marque : Peugeot, Modèle : 208, Année : 2011\n"
     ]
    }
   ],
   "source": [
    "# Création d'une classe \"Voiture\"\n",
    "\n",
    "class Voiture:\n",
    "\n",
    "# Ensuite on crée, à l'aide de la méthode \"__init__\", les différents attributs de notre classe (marque, modèle, couleur, etc.)\n",
    "\n",
    "    def __init__(self, marque, modèle, année):\n",
    "        self.marque = marque\n",
    "        self.modèle = modèle\n",
    "        self.année = année\n",
    "\n",
    "# On définit la méthode \"infos\". On utilisera la méthode f-string pour faire rapidement référence à nos attributs.\n",
    "    def infos(self):\n",
    "        print(f\"La voiture possède les caractéristiques suivantes : Marque : {self.marque}, Modèle : {self.modèle}, Année : {self.année}\")\n",
    "\n",
    "# Grâce à cette méthode, je peux maintenant entrer mes données que je vais stocker dans un objet\n",
    "\n",
    "voiture1 = Voiture(\"Peugeot\", \"208\", \"2011\")\n",
    "\n",
    "# On crée un objet \"voiture1\" qui possèdes les attributs que nous avions établi ci-dessus avec la méthode __init__\n",
    "\n",
    "voiture1.infos()"
   ]
  },
  {
   "cell_type": "markdown",
   "id": "c537be8f-f9af-4b6c-8e5d-a3e2a6fcebed",
   "metadata": {},
   "source": [
    "#### Ajoutons plusieurs objets différents auxquels nous appliquerons la même méthode."
   ]
  },
  {
   "cell_type": "code",
   "execution_count": 32,
   "id": "a7b70168-791a-4fa3-80b6-70b224221400",
   "metadata": {},
   "outputs": [
    {
     "name": "stdout",
     "output_type": "stream",
     "text": [
      "Marque : Peugeot, Modèle : 208, Année : 2011\n",
      "Marque : Toyota, Modèle : Prius, Année : 2003\n",
      "Marque : Renault, Modèle : Clio, Année : 2008\n"
     ]
    }
   ],
   "source": [
    "# Création d'une classe \"Voiture\"\n",
    "\n",
    "class Voiture:\n",
    "\n",
    "# Ensuite on crée, à l'aide de la méthode \"__init__\", les différents attributs de notre classe (marque, modèle, couleur, etc.)\n",
    "\n",
    "    def __init__(self, marque, modèle, année):\n",
    "        self.marque = marque\n",
    "        self.modèle = modèle\n",
    "        self.année = année\n",
    "\n",
    "# On définit la méthode \"infos\". On utilisera la méthode f-string pour faire rapidement référence à nos attributs.\n",
    "    def infos(self):\n",
    "        print(f\"Marque : {self.marque}, Modèle : {self.modèle}, Année : {self.année}\")\n",
    "\n",
    "# On crée plusieurs objets différents :\n",
    "\n",
    "voiture1 = Voiture(\"Peugeot\", \"208\", \"2011\")\n",
    "voiture2 = Voiture(\"Toyota\", \"Prius\", \"2003\")\n",
    "voiture3 = Voiture(\"Renault\", \"Clio\", \"2008\")\n",
    "\n",
    "# On va pouvoir obtenir rapidement les infos pour nos objets\n",
    "\n",
    "voiture1.infos()\n",
    "voiture2.infos()\n",
    "voiture3.infos()"
   ]
  },
  {
   "cell_type": "markdown",
   "id": "74b9a154-446b-44fc-8c26-ee4376ab5d1b",
   "metadata": {},
   "source": [
    "#### On peut également stocker tous les objets à l'intérieur d'une instance afin d'obtenir rapidement un ensemble d'informations. Pour cela, on peut utiliser la méthode \"append\" qui permet de stocker, sous forme de listes, nos instances."
   ]
  },
  {
   "cell_type": "code",
   "execution_count": 48,
   "id": "07627d0e-9d04-4042-9617-3f83261c0d93",
   "metadata": {},
   "outputs": [
    {
     "name": "stdout",
     "output_type": "stream",
     "text": [
      "Marque : Peugeot, Modèle : 208, Année : 2011\n",
      "Marque : Toyota, Modèle : Prius, Année : 2003\n",
      "Marque : Renault, Modèle : Clio, Année : 2008\n"
     ]
    }
   ],
   "source": [
    "class Voiture:\n",
    "# On prépare notre liste instance:\n",
    "    instance = []\n",
    "\n",
    "    def __init__(self, marque, modèle, année):\n",
    "        self.marque = marque\n",
    "        self.modèle = modèle\n",
    "        self.année = année\n",
    "# On crée une instance Voiture à l'aide de la méthode 'append' qui nous permet de grouper nos objets sous forme de listes.\n",
    "        Voiture.instance.append(self)\n",
    "\n",
    "    def infos(self):\n",
    "        print(f\"Marque : {self.marque}, Modèle : {self.modèle}, Année : {self.année}\")\n",
    "\n",
    "# On crée toujours nos trois objets différents :\n",
    "\n",
    "voiture1 = Voiture(\"Peugeot\", \"208\", \"2011\")\n",
    "voiture2 = Voiture(\"Toyota\", \"Prius\", \"2003\")\n",
    "voiture3 = Voiture(\"Renault\", \"Clio\", \"2008\")\n",
    "\n",
    "# Grâce au groupement fait ci-dessus, on peut appeler les infos de toutes les voitures en une seule ligne:\n",
    "\n",
    "for voiture in Voiture.instance:\n",
    "    voiture.infos()"
   ]
  },
  {
   "cell_type": "markdown",
   "id": "96e3b471-3825-42d3-b7cd-1863b91b165f",
   "metadata": {},
   "source": [
    "#### Plus spécifiquement, on peut aussi récupérer un attribut défini de chaque voiture plutôt que de collecter toutes les informations (voir tout en bas du bloc ci-dessous)."
   ]
  },
  {
   "cell_type": "code",
   "execution_count": 45,
   "id": "2bc13be3-5f56-4eab-bcb4-bead23b06bba",
   "metadata": {},
   "outputs": [
    {
     "name": "stdout",
     "output_type": "stream",
     "text": [
      "208\n"
     ]
    }
   ],
   "source": [
    "class Voiture:\n",
    "    instances = []\n",
    "# Ensuite on crée, à l'aide de la méthode \"__init__\", les différents attributs de notre classe (marque, modèle, couleur, etc.)\n",
    "\n",
    "    def __init__(self, marque, modèle, année):\n",
    "        self.marque = marque\n",
    "        self.modèle = modèle\n",
    "        self.année = année\n",
    "\n",
    "    def infos(self):\n",
    "        print(f\"Marque : {self.marque}, Modèle : {self.modèle}, Année : {self.année}\")\n",
    "\n",
    "# On crée toujours nos trois objets différents :\n",
    "\n",
    "voiture1 = Voiture(\"Peugeot\", \"208\", \"2011\")\n",
    "voiture2 = Voiture(\"Toyota\", \"Prius\", \"2003\")\n",
    "voiture3 = Voiture(\"Renault\", \"Clio\", \"2008\")\n",
    "\n",
    "# Si je ne souhaite connaître uniquement le modèle d'une seule de mes voitures je peux le faire grâce à \"print()\"\n",
    "\n",
    "print(voiture1.modèle)"
   ]
  },
  {
   "cell_type": "markdown",
   "id": "39654bfd-3e7b-41c2-9fcd-9d95b84f1cd3",
   "metadata": {},
   "source": [
    "#### Vous êtes maintenant prêt.e.s pour la dernière série d'exercices de cette séquence.\n",
    "\n",
    "Globalement, vous aurez surtout appris les bases de Python et de la programmation orientée objet. Encore un fois, le but de cette séquence était de vous initier à cette partie de l'informatique et de vous donner des bases très générales.\\\n",
    "L'essentiel ici était de vous présenter un autre monde que celui des logiciels textométriques avec lesquels vous avez déjà eu l'occasion de travailler.\\\n",
    "N'hésitez pas à consulter la section \"Ressources\" sur l'ENT à l'intérieur de laquelle vous trouverez des MOOCS, un glossaire et des vidéos qui pourront vous épauler tout au long de ce cours.\\\n",
    "Par la suite, nous verrons la construction des formats de données tabulaires et textuels que vous utilisez le plus (.json, .csv et .xml) avant de lancer nos premiers scripts Python qui nous servirons dans la collecte de données en ligne."
   ]
  }
 ],
 "metadata": {
  "kernelspec": {
   "display_name": "Python 3 (ipykernel)",
   "language": "python",
   "name": "python3"
  },
  "language_info": {
   "codemirror_mode": {
    "name": "ipython",
    "version": 3
   },
   "file_extension": ".py",
   "mimetype": "text/x-python",
   "name": "python",
   "nbconvert_exporter": "python",
   "pygments_lexer": "ipython3",
   "version": "3.12.2"
  }
 },
 "nbformat": 4,
 "nbformat_minor": 5
}
